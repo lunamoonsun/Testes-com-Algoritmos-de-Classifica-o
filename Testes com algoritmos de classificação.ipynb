{
 "cells": [
  {
   "cell_type": "markdown",
   "id": "3934d63d",
   "metadata": {},
   "source": [
    "# Testes com algoritmos de classificação"
   ]
  },
  {
   "cell_type": "markdown",
   "id": "340cc8fa",
   "metadata": {},
   "source": [
    "Vamos analisar o acesso a crédito de uma base de dados."
   ]
  },
  {
   "cell_type": "code",
   "execution_count": 40,
   "id": "c4e1893e",
   "metadata": {},
   "outputs": [],
   "source": [
    "# Bibliotecas\n",
    "\n",
    "import pandas as pd\n",
    "import numpy as np\n",
    "import statistics\n",
    "from scipy import stats\n",
    "import math"
   ]
  },
  {
   "cell_type": "code",
   "execution_count": 2,
   "id": "16915755",
   "metadata": {},
   "outputs": [],
   "source": [
    "# Lendo arquivo\n",
    "\n",
    "dataset = pd.read_csv(\"credit_data.csv\")"
   ]
  },
  {
   "cell_type": "code",
   "execution_count": 3,
   "id": "23333864",
   "metadata": {},
   "outputs": [
    {
     "data": {
      "text/plain": [
       "i#clientid    0\n",
       "income        0\n",
       "age           3\n",
       "loan          0\n",
       "c#default     0\n",
       "dtype: int64"
      ]
     },
     "execution_count": 3,
     "metadata": {},
     "output_type": "execute_result"
    }
   ],
   "source": [
    "# Observando se alguma coluna tem algum valor nulo\n",
    "# Nesse caso, a coluna age tem 3 valores nulos, para isso precisamos tratar, nesse caso vamos retirar\n",
    "\n",
    "dataset.isnull().sum()"
   ]
  },
  {
   "cell_type": "code",
   "execution_count": 4,
   "id": "a08510cd",
   "metadata": {},
   "outputs": [
    {
     "data": {
      "text/plain": [
       "(1997, 5)"
      ]
     },
     "execution_count": 4,
     "metadata": {},
     "output_type": "execute_result"
    }
   ],
   "source": [
    "# Retirando os valores nulos\n",
    "\n",
    "dataset.dropna(inplace=True) # Funcao que tira os valores nulos\n",
    "dataset.shape"
   ]
  },
  {
   "cell_type": "code",
   "execution_count": 5,
   "id": "82f5a048",
   "metadata": {},
   "outputs": [],
   "source": [
    "X = dataset.iloc[:, 1:4].values # Selecionando os valores\n",
    "y = dataset.iloc[:, 4].values # Selecionando os valores"
   ]
  },
  {
   "cell_type": "code",
   "execution_count": 6,
   "id": "235447c8",
   "metadata": {},
   "outputs": [],
   "source": [
    "# Poderia tambem fazer dessa forma:\n",
    "\n",
    "# X = dataset.drop(['i#clientid', 'c#default'], axis=1)\n",
    "# y = dataset['c#default']"
   ]
  },
  {
   "cell_type": "code",
   "execution_count": 7,
   "id": "d17ed4be",
   "metadata": {},
   "outputs": [],
   "source": [
    "# Importando as bibliotecas de machine learning\n",
    "\n",
    "from sklearn.model_selection import train_test_split\n",
    "from sklearn.naive_bayes import GaussianNB\n",
    "from sklearn.linear_model import LogisticRegression\n",
    "from sklearn.ensemble import RandomForestClassifier\n",
    "from sklearn.metrics import accuracy_score"
   ]
  },
  {
   "cell_type": "markdown",
   "id": "8c94c157",
   "metadata": {},
   "source": [
    "Para um melhor desempenho e validação do modelo, vamos realizar 30 testes de avaliaçao, pois alguns artigos científicos necessitam de tal forma desenvolver tais validações para o modelo."
   ]
  },
  {
   "cell_type": "code",
   "execution_count": 8,
   "id": "ad8b3c77",
   "metadata": {},
   "outputs": [],
   "source": [
    "resultados_naive_bayes = []\n",
    "resultados_logistica = []\n",
    "resultados_random_forest = []\n",
    "\n",
    "for i in range(30):\n",
    "    X_train, X_test, y_train, y_test = train_test_split(X, y, test_size=0.2, stratify=y, random_state=i) \n",
    "    # Amostra estratificada baseada no y e o random_state vai mudar a cada iteração as amostras\n",
    "    \n",
    "    # Modelo Gaussiano\n",
    "    naive_bayes = GaussianNB()\n",
    "    naive_bayes.fit(X_train, y_train)\n",
    "    resultados_naive_bayes.append(accuracy_score(y_test, naive_bayes.predict(X_test)))\n",
    "    \n",
    "    # Modelo Logistico\n",
    "    logistica = LogisticRegression()\n",
    "    logistica.fit(X_train, y_train)\n",
    "    resultados_logistica.append(accuracy_score(y_test, logistica.predict(X_test)))\n",
    "    \n",
    "    # Modelo Random Forest\n",
    "    random_forest = RandomForestClassifier()\n",
    "    random_forest.fit(X_train, y_train)\n",
    "    resultados_random_forest.append(accuracy_score(y_test, random_forest.predict(X_test)))"
   ]
  },
  {
   "cell_type": "code",
   "execution_count": 9,
   "id": "de805eda",
   "metadata": {},
   "outputs": [
    {
     "name": "stdout",
     "output_type": "stream",
     "text": [
      "Resultados Naive Bayes Classifier - 30 Iterações: [0.925, 0.925, 0.9325, 0.925, 0.92, 0.905, 0.9175, 0.9175, 0.9125, 0.9325, 0.9225, 0.9125, 0.935, 0.9175, 0.925, 0.9175, 0.9275, 0.92, 0.9325, 0.92, 0.93, 0.905, 0.9175, 0.9325, 0.9425, 0.9375, 0.94, 0.92, 0.935, 0.925]\n",
      "\n",
      "Resultados Logistic Regression Classifier - 30 Iterações: [0.9325, 0.91, 0.9125, 0.9225, 0.9075, 0.89, 0.91, 0.9075, 0.8775, 0.915, 0.9175, 0.9, 0.925, 0.9175, 0.9025, 0.9125, 0.9525, 0.91, 0.9225, 0.9075, 0.925, 0.905, 0.9075, 0.945, 0.9225, 0.9275, 0.9225, 0.9175, 0.91, 0.9]\n",
      "\n",
      "Resultados Logistic Random Forest Classifier - 30 Iterações: [0.98, 0.99, 0.98, 0.995, 0.985, 0.9825, 0.985, 0.9875, 0.9775, 0.985, 0.98, 0.975, 0.98, 0.9875, 0.98, 0.9775, 0.9875, 0.9825, 0.99, 0.985, 0.9825, 0.9775, 0.985, 0.9825, 0.9825, 0.9925, 0.9875, 0.985, 0.99, 0.985]\n"
     ]
    }
   ],
   "source": [
    "print(f'Resultados Naive Bayes Classifier - 30 Iterações: {resultados_naive_bayes}')\n",
    "print()\n",
    "print(f'Resultados Logistic Regression Classifier - 30 Iterações: {resultados_logistica}')\n",
    "print()\n",
    "print(f'Resultados Logistic Random Forest Classifier - 30 Iterações: {resultados_random_forest}')"
   ]
  },
  {
   "cell_type": "markdown",
   "id": "fc1ec2c3",
   "metadata": {},
   "source": [
    "#### Avaliação dos modelos de algortimos propostos anteriormente"
   ]
  },
  {
   "cell_type": "code",
   "execution_count": 10,
   "id": "72779a61",
   "metadata": {},
   "outputs": [],
   "source": [
    "# Transformando para o formato numpy, pois o seu formato original é lista\n",
    "\n",
    "resultados_naive_bayes = np.array(resultados_naive_bayes)\n",
    "resultados_logistica = np.array(resultados_logistica)\n",
    "resultados_random_forest = np.array(resultados_random_forest)"
   ]
  },
  {
   "cell_type": "markdown",
   "id": "a6484373",
   "metadata": {},
   "source": [
    "##### Extraindo a média dos modelos para cada algoritmo:"
   ]
  },
  {
   "cell_type": "code",
   "execution_count": 11,
   "id": "3c0e1f9d",
   "metadata": {},
   "outputs": [
    {
     "data": {
      "text/plain": [
       "(0.92425, 0.9145, 0.9840833333333333)"
      ]
     },
     "execution_count": 11,
     "metadata": {},
     "output_type": "execute_result"
    }
   ],
   "source": [
    "resultados_naive_bayes.mean(), resultados_logistica.mean(), resultados_random_forest.mean()"
   ]
  },
  {
   "cell_type": "markdown",
   "id": "849fb941",
   "metadata": {},
   "source": [
    "##### Moda dos modelos"
   ]
  },
  {
   "cell_type": "code",
   "execution_count": 12,
   "id": "0a0e4492",
   "metadata": {},
   "outputs": [
    {
     "data": {
      "text/plain": [
       "(ModeResult(mode=array([0.9175]), count=array([5])),\n",
       " ModeResult(mode=array([0.9075]), count=array([4])),\n",
       " ModeResult(mode=array([0.985]), count=array([7])))"
      ]
     },
     "execution_count": 12,
     "metadata": {},
     "output_type": "execute_result"
    }
   ],
   "source": [
    "stats.mode(resultados_naive_bayes), stats.mode(resultados_logistica), stats.mode(resultados_random_forest)"
   ]
  },
  {
   "cell_type": "markdown",
   "id": "2628c0df",
   "metadata": {},
   "source": [
    "##### Mediana"
   ]
  },
  {
   "cell_type": "code",
   "execution_count": 13,
   "id": "7d207d2b",
   "metadata": {},
   "outputs": [
    {
     "data": {
      "text/plain": [
       "(0.925, 0.9125, 0.985)"
      ]
     },
     "execution_count": 13,
     "metadata": {},
     "output_type": "execute_result"
    }
   ],
   "source": [
    "np.median(resultados_naive_bayes), np.median(resultados_logistica), np.median(resultados_random_forest)"
   ]
  },
  {
   "cell_type": "markdown",
   "id": "ef142b7b",
   "metadata": {},
   "source": [
    "Percebe-se que não se tem muita varianção da mediana para a média. Nesse caso, os valores são consistentes. "
   ]
  },
  {
   "cell_type": "markdown",
   "id": "3e22273b",
   "metadata": {},
   "source": [
    "##### Variância"
   ]
  },
  {
   "cell_type": "code",
   "execution_count": 14,
   "id": "3e70ed45",
   "metadata": {},
   "outputs": [
    {
     "data": {
      "text/plain": [
       "(8.756250000000001e-05, 0.00020933333333333337, 2.186805555555557e-05)"
      ]
     },
     "execution_count": 14,
     "metadata": {},
     "output_type": "execute_result"
    }
   ],
   "source": [
    "np.set_printoptions(suppress=True)\n",
    "np.var(resultados_naive_bayes), np.var(resultados_logistica), np.var(resultados_random_forest)"
   ]
  },
  {
   "cell_type": "markdown",
   "id": "665f4f73",
   "metadata": {},
   "source": [
    "O algoritmo que obtem mais consistência é o valor que têm-se a menor variância."
   ]
  },
  {
   "cell_type": "code",
   "execution_count": 15,
   "id": "4502502b",
   "metadata": {},
   "outputs": [
    {
     "data": {
      "text/plain": [
       "3.072222222222222e-05"
      ]
     },
     "execution_count": 15,
     "metadata": {},
     "output_type": "execute_result"
    }
   ],
   "source": [
    "np.min([8.756250000000001e-05, 0.00020933333333333337, 3.072222222222222e-05])"
   ]
  },
  {
   "cell_type": "markdown",
   "id": "262abbbb",
   "metadata": {},
   "source": [
    "Nesse caso, o random forest possui a menor variância e possui a melhor consistência do algoritmo."
   ]
  },
  {
   "cell_type": "code",
   "execution_count": 16,
   "id": "9be050cc",
   "metadata": {},
   "outputs": [
    {
     "data": {
      "text/plain": [
       "0.00020933333333333337"
      ]
     },
     "execution_count": 16,
     "metadata": {},
     "output_type": "execute_result"
    }
   ],
   "source": [
    "np.max([8.756250000000001e-05, 0.00020933333333333337, 3.072222222222222e-05])"
   ]
  },
  {
   "cell_type": "markdown",
   "id": "d1306ea8",
   "metadata": {},
   "source": [
    "O algoritmo que possui maior variação dos resultados em relação a média é o de logistic regression. Logo, é o algoritmo que mais oscila. "
   ]
  },
  {
   "cell_type": "markdown",
   "id": "e5e9a828",
   "metadata": {},
   "source": [
    "##### Desvio Padrão"
   ]
  },
  {
   "cell_type": "code",
   "execution_count": 17,
   "id": "57066cb1",
   "metadata": {},
   "outputs": [
    {
     "data": {
      "text/plain": [
       "(0.00935748363610645, 0.014468356276140472, 0.004676329282199402)"
      ]
     },
     "execution_count": 17,
     "metadata": {},
     "output_type": "execute_result"
    }
   ],
   "source": [
    "np.std(resultados_naive_bayes), np.std(resultados_logistica), np.std(resultados_random_forest)"
   ]
  },
  {
   "cell_type": "markdown",
   "id": "0b0c2df4",
   "metadata": {},
   "source": [
    "O menor desvio padrão é do random forest. De fato, a média é 0.9838, isso indica que os outros valores ficam a uma distância apenas de 0.0055 comparados com o valor da média. "
   ]
  },
  {
   "cell_type": "markdown",
   "id": "40c026dc",
   "metadata": {},
   "source": [
    "##### Coeficiente de variação"
   ]
  },
  {
   "cell_type": "code",
   "execution_count": 18,
   "id": "2e80fcfb",
   "metadata": {},
   "outputs": [
    {
     "data": {
      "text/plain": [
       "(1.0124407504578252, 1.5821056616884057, 0.4751964720670067)"
      ]
     },
     "execution_count": 18,
     "metadata": {},
     "output_type": "execute_result"
    }
   ],
   "source": [
    "stats.variation(resultados_naive_bayes)*100, stats.variation(resultados_logistica)*100, stats.variation(resultados_random_forest)*100"
   ]
  },
  {
   "cell_type": "markdown",
   "id": "72ec3cf3",
   "metadata": {},
   "source": [
    "Logo, o coeficiente de variação diz respeito a variação dos dados em relação a média. O Random forest possuí o menor coeficiente de variação."
   ]
  },
  {
   "cell_type": "markdown",
   "id": "40f9fa57",
   "metadata": {},
   "source": [
    "# Vamos agora utilizar a validação cruzada, para diminuir o coeficiente de variação"
   ]
  },
  {
   "cell_type": "code",
   "execution_count": 19,
   "id": "7f6c0a68",
   "metadata": {},
   "outputs": [],
   "source": [
    "from sklearn.model_selection import cross_val_score, KFold"
   ]
  },
  {
   "cell_type": "code",
   "execution_count": 20,
   "id": "0134454f",
   "metadata": {},
   "outputs": [],
   "source": [
    "X = dataset.iloc[:, 1:4].values # Selecionando os valores\n",
    "y = dataset.iloc[:, 4].values # Selecionando os valores"
   ]
  },
  {
   "cell_type": "code",
   "execution_count": 21,
   "id": "7b66b328",
   "metadata": {},
   "outputs": [],
   "source": [
    "resultados_naive_bayes_cv = []\n",
    "resultados_logistica_cv = []\n",
    "resultados_random_forest_cv = []\n",
    "\n",
    "for i in range(30):\n",
    "    kfold = KFold(n_splits=10, shuffle = True, random_state = i) # Divisao  da base de dados, em 10 pedaços, pegar os registros sorteados e o random_state varia cada vez executando o for\n",
    "    \n",
    "    # Modelo Gaussiano\n",
    "    naive_bayes = GaussianNB()\n",
    "    scores = cross_val_score(naive_bayes, X, y, cv=kfold) # cross_val_score é dividido a base de dados em fatia, para fazer o treinamento e testes\n",
    "    resultados_naive_bayes_cv.append(scores.mean())\n",
    "    \n",
    "    # Modelo Logistico\n",
    "    logistica = LogisticRegression()\n",
    "    scores = cross_val_score(logistica, X, y, cv=kfold) # Vai ter 10 resultados, 1 resultado para cada pedaço\n",
    "    resultados_logistica_cv.append(scores.mean()) # Vai retornar a média dos 10 resultados para cada iteraçao, nesse caso ao total será 300 testes por algoritmo, juntando 900 testes\n",
    "    \n",
    "    # Modelo Random Forest\n",
    "    random_forest = RandomForestClassifier()\n",
    "    scores = cross_val_score(random_forest, X, y, cv=kfold)\n",
    "    resultados_random_forest_cv.append(scores.mean())"
   ]
  },
  {
   "cell_type": "code",
   "execution_count": 22,
   "id": "959b6945",
   "metadata": {},
   "outputs": [
    {
     "data": {
      "text/plain": [
       "array([0.99      , 0.99      , 0.985     , 0.99      , 0.97      ,\n",
       "       0.985     , 0.985     , 0.98994975, 0.98492462, 0.99497487])"
      ]
     },
     "execution_count": 22,
     "metadata": {},
     "output_type": "execute_result"
    }
   ],
   "source": [
    "scores # Da ultima iteracao"
   ]
  },
  {
   "cell_type": "code",
   "execution_count": 23,
   "id": "ce74c2fc",
   "metadata": {},
   "outputs": [
    {
     "data": {
      "text/plain": [
       "0.9864849246231155"
      ]
     },
     "execution_count": 23,
     "metadata": {},
     "output_type": "execute_result"
    }
   ],
   "source": [
    "scores.mean() # Media da ultima irecao"
   ]
  },
  {
   "cell_type": "code",
   "execution_count": 24,
   "id": "80bfd412",
   "metadata": {},
   "outputs": [
    {
     "name": "stdout",
     "output_type": "stream",
     "text": [
      "Resultados do Naive Bayes com KFOLD - 30 Médias:\n",
      "[0.9248618090452261, 0.9249170854271356, 0.9248894472361808, 0.9228819095477387, 0.9248718592964824, 0.9253894472361809, 0.9243844221105528, 0.9248894472361808, 0.9248718592964824, 0.9238894472361808, 0.9253844221105527, 0.9244020100502512, 0.9253743718592965, 0.924394472361809, 0.9253869346733667, 0.9248819095477387, 0.9258844221105527, 0.924894472361809, 0.9238819095477387, 0.9258844221105529, 0.9258944723618091, 0.9253894472361811, 0.92436432160804, 0.9263844221105527, 0.9228944723618092, 0.9253894472361809, 0.9248869346733668, 0.9253919597989949, 0.9253819095477386, 0.9258844221105527]\n"
     ]
    }
   ],
   "source": [
    "print(\"Resultados do Naive Bayes com KFOLD - 30 Médias:\")\n",
    "print(resultados_naive_bayes_cv)"
   ]
  },
  {
   "cell_type": "code",
   "execution_count": 25,
   "id": "86b1b638",
   "metadata": {},
   "outputs": [
    {
     "name": "stdout",
     "output_type": "stream",
     "text": [
      "Resultados do Logistic com KFOLD - 30 Médias:\n",
      "[0.9113718592964826, 0.9103668341708543, 0.918359296482412, 0.9158768844221106, 0.9133417085427136, 0.9108718592964824, 0.9188366834170856, 0.9188969849246231, 0.913356783919598, 0.9148693467336683, 0.9098718592964824, 0.9183542713567838, 0.9183793969849248, 0.9213618090452261, 0.9098643216080402, 0.914356783919598, 0.9103693467336684, 0.915856783919598, 0.9128542713567839, 0.9123668341708543, 0.9208944723618091, 0.9108668341708542, 0.9103467336683417, 0.9133768844221105, 0.9098592964824121, 0.9148768844221105, 0.910859296482412, 0.9113768844221104, 0.9113668341708543, 0.9098442211055277]\n"
     ]
    }
   ],
   "source": [
    "print(\"Resultados do Logistic com KFOLD - 30 Médias:\")\n",
    "print(resultados_logistica_cv)"
   ]
  },
  {
   "cell_type": "code",
   "execution_count": 26,
   "id": "49ce36b1",
   "metadata": {},
   "outputs": [
    {
     "name": "stdout",
     "output_type": "stream",
     "text": [
      "Resultados do Random Forest com KFOLD - 30 Médias:\n",
      "[0.9874798994974874, 0.9824773869346733, 0.9839773869346734, 0.9854723618090453, 0.9889849246231156, 0.9854798994974875, 0.9874773869346735, 0.9864874371859296, 0.9864773869346735, 0.9864798994974875, 0.9884798994974874, 0.9879698492462312, 0.9864773869346732, 0.9879798994974875, 0.9894899497487437, 0.9874798994974874, 0.9874874371859297, 0.9874748743718593, 0.9849773869346734, 0.9839773869346734, 0.9879773869346733, 0.9874773869346735, 0.9829748743718595, 0.9879798994974875, 0.9874798994974874, 0.9844874371859296, 0.9864798994974875, 0.9869824120603015, 0.9894924623115579, 0.9864849246231155]\n"
     ]
    }
   ],
   "source": [
    "print(\"Resultados do Random Forest com KFOLD - 30 Médias:\")\n",
    "print(resultados_random_forest_cv)"
   ]
  },
  {
   "cell_type": "markdown",
   "id": "29243911",
   "metadata": {},
   "source": [
    "Não utilizando o KFOLD:"
   ]
  },
  {
   "cell_type": "code",
   "execution_count": 27,
   "id": "a9febcb1",
   "metadata": {},
   "outputs": [
    {
     "data": {
      "text/plain": [
       "(1.0124407504578252, 1.5821056616884057, 0.4751964720670067)"
      ]
     },
     "execution_count": 27,
     "metadata": {},
     "output_type": "execute_result"
    }
   ],
   "source": [
    "stats.variation(resultados_naive_bayes)*100, stats.variation(resultados_logistica)*100, stats.variation(resultados_random_forest)*100"
   ]
  },
  {
   "cell_type": "markdown",
   "id": "1f29c94b",
   "metadata": {},
   "source": [
    "Utilizando o KFOLD:"
   ]
  },
  {
   "cell_type": "code",
   "execution_count": 28,
   "id": "de0b1d42",
   "metadata": {},
   "outputs": [
    {
     "data": {
      "text/plain": [
       "(0.08641071566366061, 0.38801026116292653, 0.17795622808493566)"
      ]
     },
     "execution_count": 28,
     "metadata": {},
     "output_type": "execute_result"
    }
   ],
   "source": [
    "stats.variation(resultados_naive_bayes_cv)*100, stats.variation(resultados_logistica_cv)*100, stats.variation(resultados_random_forest_cv)*100"
   ]
  },
  {
   "cell_type": "markdown",
   "id": "e213787e",
   "metadata": {},
   "source": [
    "Observando os valores percebe-se que a variação diminui muito em comparação aos valores anteriores, ainda mais, avaliando os modelos observa-se que o naive bayes obteve o menor coeficiente de variação."
   ]
  },
  {
   "cell_type": "markdown",
   "id": "80ec6e84",
   "metadata": {},
   "source": [
    "# Seleção de atributos utilizando variaância"
   ]
  },
  {
   "cell_type": "markdown",
   "id": "b6a31d8d",
   "metadata": {},
   "source": [
    "Conceito da variância para seleção dos melhores atributos para definição do modelo de aprendizagem de máquina."
   ]
  },
  {
   "cell_type": "code",
   "execution_count": 29,
   "id": "600b1cda",
   "metadata": {},
   "outputs": [
    {
     "data": {
      "text/plain": [
       "array([0.27452804, 0.18747493, 0.07462934, 0.60550817, 0.13149002,\n",
       "       0.20420578, 0.72402617, 0.11911056, 0.92805432, 0.20887415,\n",
       "       0.82475314, 0.51394126, 0.40250912, 0.06619833, 0.52760694,\n",
       "       0.53391448, 0.87052667, 0.61337792, 0.97538812, 0.92425047,\n",
       "       0.28161264, 0.06250543, 0.49531722, 0.43197204, 0.80873843,\n",
       "       0.99069919, 0.8795136 , 0.54732117, 0.51237313, 0.71469991,\n",
       "       0.57671011, 0.07920536, 0.71578347, 0.85729166, 0.49532699,\n",
       "       0.18361237, 0.72292068, 0.21326841, 0.57657264, 0.06949085,\n",
       "       0.37736518, 0.44627061, 0.17486813, 0.86273214, 0.52775546,\n",
       "       0.64013943, 0.34287845, 0.07888737, 0.17272707, 0.73444394])"
      ]
     },
     "execution_count": 29,
     "metadata": {},
     "output_type": "execute_result"
    }
   ],
   "source": [
    "np.random.rand(50)"
   ]
  },
  {
   "cell_type": "code",
   "execution_count": 31,
   "id": "e04f4f35",
   "metadata": {},
   "outputs": [
    {
     "data": {
      "text/plain": [
       "1"
      ]
     },
     "execution_count": 31,
     "metadata": {},
     "output_type": "execute_result"
    }
   ],
   "source": [
    "np.random.randint(0,2)"
   ]
  },
  {
   "cell_type": "code",
   "execution_count": 33,
   "id": "14aba28a",
   "metadata": {},
   "outputs": [],
   "source": [
    "# Criando base de dados\n",
    "\n",
    "base_selecao = {'a': np.random.rand(20), \n",
    "              'b': np.array([0.5] * 20), \n",
    "              'classe': np.random.randint(0, 2, size=20)\n",
    "             }"
   ]
  },
  {
   "cell_type": "code",
   "execution_count": 34,
   "id": "a227e247",
   "metadata": {},
   "outputs": [
    {
     "data": {
      "text/plain": [
       "{'a': array([0.80417469, 0.4698496 , 0.90833012, 0.97174349, 0.51015163,\n",
       "        0.52448808, 0.96444665, 0.2773719 , 0.91314725, 0.71218456,\n",
       "        0.61644513, 0.56527899, 0.11817503, 0.3540379 , 0.31350376,\n",
       "        0.61004323, 0.1143775 , 0.71939473, 0.24600376, 0.22977128]),\n",
       " 'b': array([0.5, 0.5, 0.5, 0.5, 0.5, 0.5, 0.5, 0.5, 0.5, 0.5, 0.5, 0.5, 0.5,\n",
       "        0.5, 0.5, 0.5, 0.5, 0.5, 0.5, 0.5]),\n",
       " 'classe': array([0, 0, 0, 0, 0, 0, 1, 1, 1, 1, 0, 0, 1, 0, 0, 1, 0, 1, 0, 1])}"
      ]
     },
     "execution_count": 34,
     "metadata": {},
     "output_type": "execute_result"
    }
   ],
   "source": [
    "base_selecao"
   ]
  },
  {
   "cell_type": "code",
   "execution_count": 36,
   "id": "f832e8a4",
   "metadata": {},
   "outputs": [
    {
     "data": {
      "text/html": [
       "<div>\n",
       "<style scoped>\n",
       "    .dataframe tbody tr th:only-of-type {\n",
       "        vertical-align: middle;\n",
       "    }\n",
       "\n",
       "    .dataframe tbody tr th {\n",
       "        vertical-align: top;\n",
       "    }\n",
       "\n",
       "    .dataframe thead th {\n",
       "        text-align: right;\n",
       "    }\n",
       "</style>\n",
       "<table border=\"1\" class=\"dataframe\">\n",
       "  <thead>\n",
       "    <tr style=\"text-align: right;\">\n",
       "      <th></th>\n",
       "      <th>a</th>\n",
       "      <th>b</th>\n",
       "      <th>classe</th>\n",
       "    </tr>\n",
       "  </thead>\n",
       "  <tbody>\n",
       "    <tr>\n",
       "      <th>0</th>\n",
       "      <td>0.804175</td>\n",
       "      <td>0.5</td>\n",
       "      <td>0</td>\n",
       "    </tr>\n",
       "    <tr>\n",
       "      <th>1</th>\n",
       "      <td>0.469850</td>\n",
       "      <td>0.5</td>\n",
       "      <td>0</td>\n",
       "    </tr>\n",
       "    <tr>\n",
       "      <th>2</th>\n",
       "      <td>0.908330</td>\n",
       "      <td>0.5</td>\n",
       "      <td>0</td>\n",
       "    </tr>\n",
       "    <tr>\n",
       "      <th>3</th>\n",
       "      <td>0.971743</td>\n",
       "      <td>0.5</td>\n",
       "      <td>0</td>\n",
       "    </tr>\n",
       "    <tr>\n",
       "      <th>4</th>\n",
       "      <td>0.510152</td>\n",
       "      <td>0.5</td>\n",
       "      <td>0</td>\n",
       "    </tr>\n",
       "  </tbody>\n",
       "</table>\n",
       "</div>"
      ],
      "text/plain": [
       "          a    b  classe\n",
       "0  0.804175  0.5       0\n",
       "1  0.469850  0.5       0\n",
       "2  0.908330  0.5       0\n",
       "3  0.971743  0.5       0\n",
       "4  0.510152  0.5       0"
      ]
     },
     "execution_count": 36,
     "metadata": {},
     "output_type": "execute_result"
    }
   ],
   "source": [
    "dataset = pd.DataFrame(base_selecao) # transformando para um dataframe\n",
    "dataset.head()"
   ]
  },
  {
   "cell_type": "code",
   "execution_count": 37,
   "id": "b7bd7272",
   "metadata": {},
   "outputs": [
    {
     "data": {
      "text/html": [
       "<div>\n",
       "<style scoped>\n",
       "    .dataframe tbody tr th:only-of-type {\n",
       "        vertical-align: middle;\n",
       "    }\n",
       "\n",
       "    .dataframe tbody tr th {\n",
       "        vertical-align: top;\n",
       "    }\n",
       "\n",
       "    .dataframe thead th {\n",
       "        text-align: right;\n",
       "    }\n",
       "</style>\n",
       "<table border=\"1\" class=\"dataframe\">\n",
       "  <thead>\n",
       "    <tr style=\"text-align: right;\">\n",
       "      <th></th>\n",
       "      <th>a</th>\n",
       "      <th>b</th>\n",
       "      <th>classe</th>\n",
       "    </tr>\n",
       "  </thead>\n",
       "  <tbody>\n",
       "    <tr>\n",
       "      <th>count</th>\n",
       "      <td>20.000000</td>\n",
       "      <td>20.0</td>\n",
       "      <td>20.000000</td>\n",
       "    </tr>\n",
       "    <tr>\n",
       "      <th>mean</th>\n",
       "      <td>0.547146</td>\n",
       "      <td>0.5</td>\n",
       "      <td>0.400000</td>\n",
       "    </tr>\n",
       "    <tr>\n",
       "      <th>std</th>\n",
       "      <td>0.279673</td>\n",
       "      <td>0.0</td>\n",
       "      <td>0.502625</td>\n",
       "    </tr>\n",
       "    <tr>\n",
       "      <th>min</th>\n",
       "      <td>0.114378</td>\n",
       "      <td>0.5</td>\n",
       "      <td>0.000000</td>\n",
       "    </tr>\n",
       "    <tr>\n",
       "      <th>25%</th>\n",
       "      <td>0.304471</td>\n",
       "      <td>0.5</td>\n",
       "      <td>0.000000</td>\n",
       "    </tr>\n",
       "    <tr>\n",
       "      <th>50%</th>\n",
       "      <td>0.544884</td>\n",
       "      <td>0.5</td>\n",
       "      <td>0.000000</td>\n",
       "    </tr>\n",
       "    <tr>\n",
       "      <th>75%</th>\n",
       "      <td>0.740590</td>\n",
       "      <td>0.5</td>\n",
       "      <td>1.000000</td>\n",
       "    </tr>\n",
       "    <tr>\n",
       "      <th>max</th>\n",
       "      <td>0.971743</td>\n",
       "      <td>0.5</td>\n",
       "      <td>1.000000</td>\n",
       "    </tr>\n",
       "  </tbody>\n",
       "</table>\n",
       "</div>"
      ],
      "text/plain": [
       "               a     b     classe\n",
       "count  20.000000  20.0  20.000000\n",
       "mean    0.547146   0.5   0.400000\n",
       "std     0.279673   0.0   0.502625\n",
       "min     0.114378   0.5   0.000000\n",
       "25%     0.304471   0.5   0.000000\n",
       "50%     0.544884   0.5   0.000000\n",
       "75%     0.740590   0.5   1.000000\n",
       "max     0.971743   0.5   1.000000"
      ]
     },
     "execution_count": 37,
     "metadata": {},
     "output_type": "execute_result"
    }
   ],
   "source": [
    "dataset.describe() # Estatística para a base de dados"
   ]
  },
  {
   "cell_type": "markdown",
   "id": "03d645c5",
   "metadata": {},
   "source": [
    "Std é quanto o valor está afastado da média, é o desvio padrao. "
   ]
  },
  {
   "cell_type": "code",
   "execution_count": 38,
   "id": "ba0d3b31",
   "metadata": {},
   "outputs": [
    {
     "data": {
      "text/plain": [
       "(0.07430621528221719, 0.0)"
      ]
     },
     "execution_count": 38,
     "metadata": {},
     "output_type": "execute_result"
    }
   ],
   "source": [
    "# Calculando a variância para cada atributo\n",
    "\n",
    "np.var(dataset['a']), np.var(dataset['b'])"
   ]
  },
  {
   "cell_type": "code",
   "execution_count": 44,
   "id": "6fa2cd1e",
   "metadata": {},
   "outputs": [
    {
     "data": {
      "text/plain": [
       "0.27259166399986845"
      ]
     },
     "execution_count": 44,
     "metadata": {},
     "output_type": "execute_result"
    }
   ],
   "source": [
    "math.sqrt(0.07430621528221719) # Desvio padrao"
   ]
  },
  {
   "cell_type": "code",
   "execution_count": 45,
   "id": "6f81b0e8",
   "metadata": {},
   "outputs": [],
   "source": [
    "X = dataset.iloc[:, 0:2].values "
   ]
  },
  {
   "cell_type": "code",
   "execution_count": 47,
   "id": "e3e99462",
   "metadata": {},
   "outputs": [],
   "source": [
    "from sklearn.feature_selection import VarianceThreshold\n",
    "\n",
    "# Biblioteca responsável por realizar a análise das features mais importantes a partir da variância"
   ]
  },
  {
   "cell_type": "code",
   "execution_count": 48,
   "id": "0cc6f378",
   "metadata": {},
   "outputs": [],
   "source": [
    "selecao = VarianceThreshold(threshold=0.07) # Exclui os valores de atributos menores que o indicado\n",
    "\n",
    "X_novo = selecao.fit_transform(X)"
   ]
  },
  {
   "cell_type": "code",
   "execution_count": 51,
   "id": "69b0985f",
   "metadata": {},
   "outputs": [
    {
     "data": {
      "text/plain": [
       "(20, 1)"
      ]
     },
     "execution_count": 51,
     "metadata": {},
     "output_type": "execute_result"
    }
   ],
   "source": [
    "X_novo.shape # Nota-se que só é utilizado 20 atributos e 1 coluna para o novo df que tem importancia"
   ]
  },
  {
   "cell_type": "code",
   "execution_count": 52,
   "id": "49915e6c",
   "metadata": {},
   "outputs": [
    {
     "data": {
      "text/plain": [
       "array([0.07430622, 0.        ])"
      ]
     },
     "execution_count": 52,
     "metadata": {},
     "output_type": "execute_result"
    }
   ],
   "source": [
    "selecao.variances_"
   ]
  },
  {
   "cell_type": "code",
   "execution_count": 54,
   "id": "22fb5758",
   "metadata": {},
   "outputs": [],
   "source": [
    "indices = np.where(selecao.variances_ > 0.07)"
   ]
  },
  {
   "cell_type": "markdown",
   "id": "a1eb36d7",
   "metadata": {},
   "source": [
    "É importante ressaltar que atributos com variância muito pequena ou 0, podem ser excluídos da base de dados. Pois, geralmente é notável que os atributos se tornam homogênos e não afetam, não tem relação."
   ]
  },
  {
   "cell_type": "code",
   "execution_count": null,
   "id": "a156c140",
   "metadata": {},
   "outputs": [],
   "source": []
  }
 ],
 "metadata": {
  "kernelspec": {
   "display_name": "Python 3",
   "language": "python",
   "name": "python3"
  },
  "language_info": {
   "codemirror_mode": {
    "name": "ipython",
    "version": 3
   },
   "file_extension": ".py",
   "mimetype": "text/x-python",
   "name": "python",
   "nbconvert_exporter": "python",
   "pygments_lexer": "ipython3",
   "version": "3.8.8"
  }
 },
 "nbformat": 4,
 "nbformat_minor": 5
}
